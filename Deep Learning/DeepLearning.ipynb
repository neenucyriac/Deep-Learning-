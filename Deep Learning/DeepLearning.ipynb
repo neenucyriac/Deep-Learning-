{
 "cells": [
  {
   "cell_type": "code",
   "execution_count": null,
   "id": "7d909e8a-e755-4c12-93f4-df3253116133",
   "metadata": {},
   "outputs": [],
   "source": [
    "#1.Loading and Preprocessing (4 marks)\n",
    "\n",
    "import pandas as pd\n",
    "from sklearn.datasets import load_diabetes\n",
    "from sklearn.preprocessing import StandardScaler\n",
    "import numpy as np\n",
    "\n",
    "# Load the dataset\n",
    "diabetes_data = load_diabetes()\n",
    "X = pd.DataFrame(diabetes_data.data, columns=diabetes_data.feature_names)\n",
    "y = pd.Series(diabetes_data.target)\n",
    "\n",
    "# Check for missing values\n",
    "print(X.isnull().sum())\n",
    "\n",
    "#Normalize the features:\n",
    "\n",
    "scaler = StandardScaler()\n",
    "X_scaled = scaler.fit_transform(X)\n",
    "\n"
   ]
  },
  {
   "cell_type": "code",
   "execution_count": null,
   "id": "65cba625-2ce6-4ffb-8c33-1c93b4432dc4",
   "metadata": {},
   "outputs": [],
   "source": [
    "#2.Exploratory Data Analysis (EDA) (4 marks)\n",
    "\n",
    "#Perform EDA to understand the distribution of features and the target variable.\n",
    "\n",
    "import seaborn as sns\n",
    "import matplotlib.pyplot as plt\n",
    "\n",
    "# Visualizing the distribution of the target variable\n",
    "sns.histplot(y, kde=True)\n",
    "plt.title('Distribution of Diabetes Progression')\n",
    "plt.xlabel('Diabetes Progression')\n",
    "plt.show()\n",
    "\n",
    "# Correlation heatmap\n",
    "correlation_matrix = X.corr()\n",
    "sns.heatmap(correlation_matrix, annot=True, cmap='coolwarm')\n",
    "plt.title('Correlation Matrix')\n",
    "plt.show()\n",
    "\n",
    "#Visualize the relationships between features and the target variable.\n",
    "sns.pairplot(pd.concat([X, y], axis=1), x_vars=X.columns, y_vars=['target'], height=2.5)\n",
    "plt.show()\n"
   ]
  },
  {
   "cell_type": "code",
   "execution_count": null,
   "id": "3141a8a8-1df9-4662-afeb-32af9130a53f",
   "metadata": {},
   "outputs": [],
   "source": [
    "#3.Building the ANN Model (4 marks)\n",
    "'''Design a simple ANN architecture with at least one hidden layer.\n",
    "Use appropriate activation functions .'''\n",
    "\n",
    "from sklearn.model_selection import train_test_split\n",
    "from tensorflow.keras.models import Sequential\n",
    "from tensorflow.keras.layers import Dense\n",
    "\n",
    "# Split the dataset\n",
    "X_train, X_test, y_train, y_test = train_test_split(X_scaled, y, test_size=0.2, random_state=42)\n",
    "\n",
    "# Build the ANN model\n",
    "model = Sequential()\n",
    "model.add(Dense(64, input_dim=X.shape[1], activation='relu'))  # Hidden layer\n",
    "model.add(Dense(32, activation='relu'))  # Another hidden layer\n",
    "model.add(Dense(1, activation='linear'))  # Output layer\n"
   ]
  },
  {
   "cell_type": "code",
   "execution_count": null,
   "id": "d53a4d6a-a1c0-4ba6-844f-6ffad4d45b33",
   "metadata": {},
   "outputs": [],
   "source": [
    "#4.Training the ANN Model (4 marks)\n",
    "'''Split the dataset into training and testing sets.\n",
    "Train the model on the training data.\n",
    "Use an appropriate loss function and optimizer.'''\n",
    "\n",
    "model.compile(loss='mean_squared_error', optimizer='adam')\n",
    "\n",
    "# Train the model\n",
    "model.fit(X_train, y_train, epochs=100, batch_size=10, verbose=1)\n"
   ]
  },
  {
   "cell_type": "code",
   "execution_count": null,
   "id": "f73c5c5e-6c99-408e-b66f-76f712598a89",
   "metadata": {},
   "outputs": [],
   "source": [
    "#5.Evaluating the Model (3 marks)\n",
    "'''Evaluate the model on the testing data.\n",
    "Report the performance metrics (e.g., Mean Squared Error, R² Score).'''\n",
    "\n",
    "from sklearn.metrics import mean_squared_error, r2_score\n",
    "\n",
    "y_pred = model.predict(X_test)\n",
    "\n",
    "mse = mean_squared_error(y_test, y_pred)\n",
    "r2 = r2_score(y_test, y_pred)\n",
    "\n",
    "print(f'Mean Squared Error: {mse}')\n",
    "print(f'R² Score: {r2}')\n"
   ]
  },
  {
   "cell_type": "code",
   "execution_count": null,
   "id": "727507b1-22fc-4342-839d-6f53d666199a",
   "metadata": {},
   "outputs": [],
   "source": [
    "#6.Improving the Model (5 marks)\n",
    "'''Experiment with different architectures, activation functions, or hyperparameters to improve the model performance.\n",
    "Report the changes made and the corresponding improvement in performance.'''\n",
    "\n",
    "# New model with different architecture\n",
    "model_improved = Sequential()\n",
    "model_improved.add(Dense(128, input_dim=X.shape[1], activation='relu'))  # More neurons\n",
    "model_improved.add(Dense(64, activation='relu'))  # Another hidden layer\n",
    "model_improved.add(Dense(1, activation='linear'))  # Output layer\n",
    "\n",
    "model_improved.compile(loss='mean_squared_error', optimizer='adam')\n",
    "model_improved.fit(X_train, y_train, epochs=200, batch_size=10, verbose=1)\n",
    "\n",
    "# Evaluate the improved model\n",
    "y_pred_improved = model_improved.predict(X_test)\n",
    "mse_improved = mean_squared_error(y_test, y_pred_improved)\n",
    "r2_improved = r2_score(y_test, y_pred_improved)\n",
    "\n",
    "print(f'Improved Mean Squared Error: {mse_improved}')\n",
    "print(f'Improved R² Score: {r2_improved}')\n"
   ]
  }
 ],
 "metadata": {
  "kernelspec": {
   "display_name": "Python 3 (ipykernel)",
   "language": "python",
   "name": "python3"
  },
  "language_info": {
   "codemirror_mode": {
    "name": "ipython",
    "version": 3
   },
   "file_extension": ".py",
   "mimetype": "text/x-python",
   "name": "python",
   "nbconvert_exporter": "python",
   "pygments_lexer": "ipython3",
   "version": "3.11.7"
  }
 },
 "nbformat": 4,
 "nbformat_minor": 5
}
